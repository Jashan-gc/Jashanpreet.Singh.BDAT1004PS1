{
 "cells": [
  {
   "cell_type": "markdown",
   "id": "d0a58aae",
   "metadata": {},
   "source": [
    "# BDAT 1004 Problem Set 1\n",
    "### Jashanpreet Singh\n",
    "### Student Id- 200557638\n",
    "### Group - C"
   ]
  },
  {
   "cell_type": "markdown",
   "id": "a1f2914b",
   "metadata": {},
   "source": [
    "### Question 1\n",
    "What data type is each of the following (evaluate where necessary)?  \n",
    "5 - *Integer*  \n",
    "5.0 - *Float*  \n",
    "5 > 1 - *Boolean (True)*  \n",
    "'5' - *String*  \n",
    "5 * 2 - *Integer*  \n",
    "'5' * 2 - *String*  \n",
    "'5' + '2' - *String*  \n",
    "5 / 2 - *Float*  \n",
    "5 % 2 - *Integer*  \n",
    "{5, 2, 1} - *Set*  \n",
    "5 == 3 - *Boolean (False)*  \n",
    "Pi (the number) - *Float*  "
   ]
  },
  {
   "cell_type": "code",
   "execution_count": 1,
   "id": "dd2682d5",
   "metadata": {},
   "outputs": [
    {
     "name": "stdout",
     "output_type": "stream",
     "text": [
      "<class 'int'>\n",
      "<class 'float'>\n",
      "<class 'bool'>\n",
      "<class 'str'>\n",
      "<class 'int'>\n",
      "<class 'str'>\n",
      "<class 'str'>\n",
      "<class 'float'>\n",
      "<class 'int'>\n",
      "<class 'set'>\n",
      "<class 'bool'>\n",
      "<class 'float'>\n"
     ]
    }
   ],
   "source": [
    "import math\n",
    "print(type(5))\n",
    "print(type(5.0))\n",
    "print(type(5 > 1))\n",
    "print(type('5'))\n",
    "print(type(5*2))\n",
    "print(type('5'*2))\n",
    "print(type('5'+'2'))\n",
    "print(type(5/2))\n",
    "print(type(5%2))\n",
    "print(type({5,2,1}))\n",
    "print(type(5 == 3))\n",
    "print(type(math.pi))"
   ]
  },
  {
   "cell_type": "markdown",
   "id": "7a8f6a4b",
   "metadata": {},
   "source": [
    "### Question 2\n",
    "\n",
    "Write (and evaluate) python expressions that answer these questions:\n",
    "\n",
    "a. How many letters are there in 'Supercalifragilisticexpialidocious'?  \n",
    "- *34*  \n",
    "\n",
    "\n",
    "b. Does 'Supercalifragilisticexpialidocious' contain 'ice' as a substring?  \n",
    "- *Yes or True* \n",
    "\n",
    "\n",
    "c. Which of the following words is the longest:  \n",
    "Supercalifragilisticexpialidocious, Honorificabilitudinitatibus, or  \n",
    "Bababadalgharaghtakamminarronnkonn?  \n",
    "- *Supercalifragilisticexpialidocious*  and *Bababadalgharaghtakamminarronnkonn* (since, both have the same length)  \n",
    "\n",
    "d. Which composer comes first in the dictionary: 'Berlioz', 'Borodin', 'Brian',\n",
    "'Bartok', 'Bellini', 'Buxtehude', 'Bernstein'. Which one comes last?  \n",
    "**Note - I will consider this a list and assume it to be sorted in an alphabetical order, since it has no key value pairs and it is named dictionary**  \n",
    "- * The composers which comes first and last are 'Bartok' and 'Buxtehude' *  "
   ]
  },
  {
   "cell_type": "markdown",
   "id": "fcbf6b78",
   "metadata": {},
   "source": [
    "print(len(\"Supercalifragilisticexpialidocious\"))"
   ]
  },
  {
   "cell_type": "code",
   "execution_count": 4,
   "id": "b2d5d8e3",
   "metadata": {},
   "outputs": [
    {
     "name": "stdout",
     "output_type": "stream",
     "text": [
      "True\n"
     ]
    }
   ],
   "source": [
    "print(\"ice\" in \"Supercalifragilisticexpialidocious\")"
   ]
  },
  {
   "cell_type": "code",
   "execution_count": 1,
   "id": "b8b1c2ab",
   "metadata": {},
   "outputs": [
    {
     "name": "stdout",
     "output_type": "stream",
     "text": [
      "Supercalifragilisticexpialidocious\n"
     ]
    }
   ],
   "source": [
    "list ={'Supercalifragilisticexpialidocious', 'Honorificabilitudinitatibus',\n",
    "'Bababadalgharaghtakamminarronnkonn'}\n",
    "longest_string = \"\"\n",
    "for word in list :\n",
    "    if len(word) > len(longest_string): # checking if the word we are currently iterating oiver is longer than the longest_string\n",
    "        longest_string = word           #And storing it if it is longer as the longest_string\n",
    "print(longest_string)"
   ]
  },
  {
   "cell_type": "code",
   "execution_count": 12,
   "id": "f4e40e76",
   "metadata": {},
   "outputs": [
    {
     "data": {
      "text/plain": [
       "34"
      ]
     },
     "execution_count": 12,
     "metadata": {},
     "output_type": "execute_result"
    }
   ],
   "source": [
    "len('Bababadalgharaghtakamminarronnkonn')"
   ]
  },
  {
   "cell_type": "code",
   "execution_count": 13,
   "id": "84e21129",
   "metadata": {},
   "outputs": [
    {
     "data": {
      "text/plain": [
       "34"
      ]
     },
     "execution_count": 13,
     "metadata": {},
     "output_type": "execute_result"
    }
   ],
   "source": [
    "len(\"Bababadalgharaghtakamminarronnkonn\")"
   ]
  },
  {
   "cell_type": "code",
   "execution_count": 2,
   "id": "f7d70313",
   "metadata": {},
   "outputs": [
    {
     "name": "stdout",
     "output_type": "stream",
     "text": [
      "The composers which comes first and last are 'Bartok' and 'Buxtehude'  \n"
     ]
    }
   ],
   "source": [
    "list1=['Berlioz', 'Borodin', 'Brian',\n",
    "'Bartok', 'Bellini', 'Buxtehude', 'Bernstein']\n",
    "first=min(list1)\n",
    "last=max(list1)\n",
    "print(f\"The composers which comes first and last are '{first}' and '{last}'  \")"
   ]
  },
  {
   "cell_type": "markdown",
   "id": "f8fb4906",
   "metadata": {},
   "source": [
    "### Question 3\n",
    "\n",
    "Implement function triangleArea(a,b,c) that takes as input the lengths of the 3  \n",
    "sides of a triangle and returns the area of the triangle. By Heron's formula, the area  \n",
    "of a triangle with side lengths a, b, and c is square root(s(s - a)(s - b)(s - c)) , where s = (a + b + c)/2  \n",
    ".\n",
    "\n",
    "triangleArea(2,2,2)  \n",
    ">1.7320508075688772"
   ]
  },
  {
   "cell_type": "code",
   "execution_count": 1,
   "id": "bc50c36c",
   "metadata": {},
   "outputs": [
    {
     "data": {
      "text/plain": [
       "1.7320508075688772"
      ]
     },
     "execution_count": 1,
     "metadata": {},
     "output_type": "execute_result"
    }
   ],
   "source": [
    "import math\n",
    "def triangleArea(a,b,c):\n",
    "    s= (a+b+c)/2\n",
    "    area= math.sqrt(s*(s - a)*(s - b)*(s - c))\n",
    "    return area\n",
    "triangleArea(2, 2 , 2)"
   ]
  },
  {
   "cell_type": "markdown",
   "id": "35861fbc",
   "metadata": {},
   "source": [
    "### Question 4\n",
    "\n",
    "Write a program in python to separate odd and even integers in separate arrays. Go  \n",
    "to the editor  \n",
    "Test Data :  \n",
    "Input the number of elements to be stored in the array :5  \n",
    "Input 5 elements in the array :  \n",
    "element - 0 : 25  \n",
    "element - 1 : 47  \n",
    "element - 2 : 42  \n",
    "element - 3 : 56  \n",
    "element - 4 : 32  \n",
    "Expected Output:  \n",
    "The Even elements are:  \n",
    "42 56 32  \n",
    "The Odd elements are :  \n",
    "25 47  "
   ]
  },
  {
   "cell_type": "code",
   "execution_count": 3,
   "id": "2c56e0c1",
   "metadata": {},
   "outputs": [
    {
     "name": "stdout",
     "output_type": "stream",
     "text": [
      "Please enter the the number of elements to be stored in the array 5\n",
      " Element0 :25\n",
      " Element1 :47\n",
      " Element2 :42\n",
      " Element3 :56\n",
      " Element4 :32\n",
      "The list is : [25, 47, 42, 56, 32]\n",
      "The odd elemts are: [25, 47]\n",
      "The even elements are: [42, 56, 32]\n"
     ]
    }
   ],
   "source": [
    "size = int(input(\"Please enter the the number of elements to be stored in the array \")) \n",
    "\n",
    "#enter elements into the list or array\n",
    "elements = []\n",
    "for i in range(size):\n",
    "    elements.append(int(input(f\" Element{i} :\")))\n",
    "print(f\"The list is : {elements}\")\n",
    "\n",
    "#separate odd and even elements in different arrays\n",
    "odd=[]\n",
    "even=[]\n",
    "for number in elements:\n",
    "    if (number%2 == 0):\n",
    "        even.append(number)\n",
    "    else:\n",
    "        odd.append(number)\n",
    "        \n",
    "print(f\"The odd elemts are: {odd}\")\n",
    "print(f\"The even elements are: {even}\")"
   ]
  },
  {
   "cell_type": "markdown",
   "id": "96f3213a",
   "metadata": {},
   "source": [
    "### Question 5   \n",
    "a. Write a function inside(x,y,x1,y1,x2,y2) that returns True or False  \n",
    "depending on whether the point (x,y) lies in the rectangle with lower left  \n",
    "corner (x1,y1) and upper right corner (x2,y2).  \n",
    "> inside(1,1,0,0,2,3)  \n",
    "True  \n",
    "> inside(-1,-1,0,0,2,3)  \n",
    "False \n",
    "\n",
    "b. Use function inside() from part a)  \n",
    "to write an expression that tests whether  \n",
    "the point (1,1) lies in both of the following rectangles: one with lower left  \n",
    "corner (0.3, 0.5) and upper right corner (1.1, 0.7) and the other with lower  \n",
    "left corner (0.5, 0.2) and upper right corner (1.1, 2).\n",
    "\n",
    "*False*"
   ]
  },
  {
   "cell_type": "code",
   "execution_count": 6,
   "id": "9a313485",
   "metadata": {},
   "outputs": [
    {
     "name": "stdout",
     "output_type": "stream",
     "text": [
      "True\n",
      "False\n",
      "Part b - False\n"
     ]
    }
   ],
   "source": [
    "# Part a\n",
    "def inside(x,y,x1,y1,x2,y2):\n",
    "    if x1<x<x2 and y1<y<y2: #Expression rthat checks whether the given pint is inside the rectangle\n",
    "        return True\n",
    "    else:\n",
    "        return False\n",
    "print(inside(1,1,0,0,2,3))\n",
    "print(inside(-1,-1,0,0,2,3))\n",
    "\n",
    "#Part b\n",
    "print(f\"Part b - {inside(1,1,0.3,0.5,1.1,0.7) and inside(1,1,0.5,0.2,1.1,2)}\")"
   ]
  },
  {
   "cell_type": "markdown",
   "id": "c3f74131",
   "metadata": {},
   "source": [
    "### Question 6\n",
    "\n",
    "You can turn a word into pig-Latin using the following two rules (simplified):  \n",
    "• If the word starts with a consonant, move that letter to the end and append  \n",
    "'ay'. For example, 'happy' becomes 'appyhay' and 'pencil' becomes 'encilpay'.  \n",
    "• If the word starts with a vowel, simply append 'way' to the end of the word.  \n",
    "For example, 'enter' becomes 'enterway' and 'other' becomes 'otherway' . For  \n",
    "our purposes, there are 5 vowels: a, e, i, o, u (so we count y as a consonant).  \n",
    "Write a function pig() that takes a word (i.e., a string) as input and returns its pig-  \n",
    "Latin form. Your function should still work if the input word contains upper case  \n",
    "characters. Your output should always be lower case however.  \n",
    ">pig('happy')  \n",
    "'appyhay'  \n",
    "> pig('Enter')  \n",
    "'enterway'  "
   ]
  },
  {
   "cell_type": "code",
   "execution_count": 11,
   "id": "2ea8a29f",
   "metadata": {},
   "outputs": [
    {
     "name": "stdout",
     "output_type": "stream",
     "text": [
      "appyhay\n",
      "enterway\n"
     ]
    }
   ],
   "source": [
    "def pig(str):\n",
    "    \n",
    "   \n",
    "    str=str.lower()  #Convert string to lowercase\n",
    "    vowels=['a','e','i','o','u']\n",
    "    pigLatin=str\n",
    "    if str[0] in vowels: #checks whether the first letter is a vowel\n",
    "        pigLatin = pigLatin + \"way\"\n",
    "    else:\n",
    "        pigLatin= str[1:] + str[0] + \"ay\"\n",
    "    return pigLatin\n",
    "print(pig(\"happy\"))\n",
    "print(pig(\"Enter\"))"
   ]
  },
  {
   "cell_type": "markdown",
   "id": "a3b36195",
   "metadata": {},
   "source": [
    "### Question 7\n",
    "File bloodtype1.txt records blood-types of patients (A, B, AB, O or OO) at a clinic.\n",
    "Write a function bldcount() that reads the file with name and reports (i.e.,\n",
    "prints) how many patients there are in each bloodtype.\n",
    "> bldcount('bloodtype.txt')\n",
    "There are 10 patients of blood type A.  \n",
    "There is one patient of blood type B.  \n",
    "There are 10 patients of blood type AB.  \n",
    "There are 12 patients of blood type O.  \n",
    "There are no patients of blood type OO.  "
   ]
  },
  {
   "cell_type": "code",
   "execution_count": 8,
   "id": "e86c1546",
   "metadata": {},
   "outputs": [
    {
     "name": "stdout",
     "output_type": "stream",
     "text": [
      "13 patient/patients have the blood type AB\n",
      "15 patient/patients have the blood type A\n",
      "15 patient/patients have the blood type O\n",
      "1 patient/patients have the blood type B\n",
      "0 patient/patients have the blood type OO\n"
     ]
    }
   ],
   "source": [
    "def bldcount(bloodFile):\n",
    "    # A dictionary to store blood types\n",
    "    BloodTypes ={'AB':0 ,'A':0 ,'O': 0, 'B': 0 , 'OO': 0}\n",
    "    \n",
    "    with open(bloodFile, 'r') as file: # openiong bloodFile in reading mode\n",
    "        bloodList = file.read().split() #Splitting all blood types within the file by white space and storing them in a bloodList\n",
    "    for x in bloodList: #updating values in the dictionary\n",
    "        BloodTypes[x]+= 1\n",
    "    for key, value in BloodTypes.items():\n",
    "        print(f\"{value} patient/patients have the blood type {key}\")\n",
    "bldcount('bloodtype1.txt')\n",
    "    "
   ]
  },
  {
   "cell_type": "markdown",
   "id": "eba60848",
   "metadata": {},
   "source": [
    "### Question 8\n",
    "Write a function curconv() that takes as input:  \n",
    "1. a currency represented using a string (e.g.,'JPY' for the Japanese Yen or  \n",
    "'EUR' for the Euro)  \n",
    "2. an amount  \n",
    "and then converts and returns the amount in US dollars.  \n",
    "> curconv('EUR', 100)  \n",
    "122.96544  \n",
    "> curconv('JPY', 100)  \n",
    "1.241401  \n",
    "The currency rates you will need are stored in file currencies.txt:  \n",
    "AUD 1.0345157 Australian Dollar  \n",
    "CHF 1.0237414 Swiss Franc  \n",
    "CNY 0.1550176 Chinese Yuan  \n",
    "DKK 0.1651442 Danish Krone  \n",
    "EUR 1.2296544 Euro  \n",
    "GBP 1.5550989 British Pound  \n",
    "HKD 0.1270207 Hong Kong Dollar  \n",
    "INR 0.0177643 Indian Rupee  \n",
    "JPY 0.01241401 Japanese Yen  \n",
    "MXN 0.0751848 Mexican Peso  \n",
    "MYR 0.3145411 Malaysian Ringgit  \n",
    "NOK 0.1677063 Norwegian Krone  \n",
    "NZD 0.8003591 New Zealand Dollar  \n",
    "PHP 0.0233234 Philippine Peso   \n",
    "SEK 0.148269 Swedish Krona  \n",
    "SGD 0.788871 Singapore Dollar  \n",
    "THB 0.0313789 Thai Baht  "
   ]
  },
  {
   "cell_type": "code",
   "execution_count": 22,
   "id": "604b5b7f",
   "metadata": {},
   "outputs": [
    {
     "name": "stdout",
     "output_type": "stream",
     "text": [
      "78.8871\n",
      "1.241401\n"
     ]
    }
   ],
   "source": [
    "def curconv(currency, amount):\n",
    "    dict= {}\n",
    "    \n",
    "    with open('currencies.txt', 'r') as file: # opening the file in reading mode\n",
    "        for line in file:#splitting the currencies by line and whitespace and adding them to the dictionary by using a list\n",
    "            list1 = line.split() \n",
    "            dict[list1[0]] = float(list1[1])\n",
    "    \n",
    "    # Convert to USD\n",
    "    if currency in dict:\n",
    "        usd = amount * dict[currency]\n",
    "        return usd\n",
    "    else:\n",
    "        return 'Information Unvailable about currency'\n",
    "\n",
    "# Example\n",
    "usd_amount = curconv('SGD', 100)\n",
    "print(usd_amount)\n",
    "\n",
    "usd_amount = curconv('JPY', 100)\n",
    "print(usd_amount)"
   ]
  },
  {
   "cell_type": "markdown",
   "id": "fef16515",
   "metadata": {},
   "source": [
    "# Question 9  \n",
    "Each of the following will cause an exception (an error). Identify what type of  \n",
    "exception each will cause.  \n",
    "  \n",
    "Trying to add incompatible variables, as in  \n",
    "adding 6 + ‘a’  \n",
    "*TypeError: unsupported operand type(s) for +: 'int' and 'str'* \n",
    "\n",
    "Referring to the 12th item of a list that has only 10  \n",
    "items  \n",
    "*IndexError: list index out of range*  \n",
    "\n",
    "Using a value that is out of range for a function’s  \n",
    "input, such as calling math.sqrt(-1.0)  \n",
    "*ValueError: math domain error*  \n",
    "\n",
    "Using an undeclared variable, such as print(x)  \n",
    "when x has not been defined  \n",
    "*NameError: name 'jashan' is not defined*  \n",
    "  \n",
    "Trying to open a file that does not exist, such as  \n",
    "mistyping the file name or looking in the wrong  \n",
    "directory.  \n",
    "*FileNotFoundError: [Errno 2] No such file or directory: 'inavalidfilename'  *"
   ]
  },
  {
   "cell_type": "code",
   "execution_count": 23,
   "id": "540518e1",
   "metadata": {},
   "outputs": [
    {
     "ename": "TypeError",
     "evalue": "unsupported operand type(s) for +: 'int' and 'str'",
     "output_type": "error",
     "traceback": [
      "\u001b[1;31m---------------------------------------------------------------------------\u001b[0m",
      "\u001b[1;31mTypeError\u001b[0m                                 Traceback (most recent call last)",
      "Cell \u001b[1;32mIn[23], line 1\u001b[0m\n\u001b[1;32m----> 1\u001b[0m \u001b[38;5;241;43m6\u001b[39;49m\u001b[38;5;241;43m+\u001b[39;49m\u001b[38;5;124;43m'\u001b[39;49m\u001b[38;5;124;43ma\u001b[39;49m\u001b[38;5;124;43m'\u001b[39;49m\n",
      "\u001b[1;31mTypeError\u001b[0m: unsupported operand type(s) for +: 'int' and 'str'"
     ]
    }
   ],
   "source": [
    "6+'a'"
   ]
  },
  {
   "cell_type": "code",
   "execution_count": 24,
   "id": "3cc84c34",
   "metadata": {},
   "outputs": [
    {
     "ename": "IndexError",
     "evalue": "list index out of range",
     "output_type": "error",
     "traceback": [
      "\u001b[1;31m---------------------------------------------------------------------------\u001b[0m",
      "\u001b[1;31mIndexError\u001b[0m                                Traceback (most recent call last)",
      "Cell \u001b[1;32mIn[24], line 2\u001b[0m\n\u001b[0;32m      1\u001b[0m lis\u001b[38;5;241m=\u001b[39m[\u001b[38;5;241m0\u001b[39m,\u001b[38;5;241m1\u001b[39m,\u001b[38;5;241m2\u001b[39m,\u001b[38;5;241m3\u001b[39m,\u001b[38;5;241m4\u001b[39m,\u001b[38;5;241m5\u001b[39m,\u001b[38;5;241m6\u001b[39m,\u001b[38;5;241m7\u001b[39m,\u001b[38;5;241m8\u001b[39m,\u001b[38;5;241m9\u001b[39m]\n\u001b[1;32m----> 2\u001b[0m \u001b[38;5;28mprint\u001b[39m(\u001b[43mlis\u001b[49m\u001b[43m[\u001b[49m\u001b[38;5;241;43m11\u001b[39;49m\u001b[43m]\u001b[49m)\n",
      "\u001b[1;31mIndexError\u001b[0m: list index out of range"
     ]
    }
   ],
   "source": [
    "lis=[0,1,2,3,4,5,6,7,8,9]\n",
    "print(lis[11])"
   ]
  },
  {
   "cell_type": "code",
   "execution_count": 26,
   "id": "d66042ec",
   "metadata": {},
   "outputs": [
    {
     "ename": "ValueError",
     "evalue": "math domain error",
     "output_type": "error",
     "traceback": [
      "\u001b[1;31m---------------------------------------------------------------------------\u001b[0m",
      "\u001b[1;31mValueError\u001b[0m                                Traceback (most recent call last)",
      "Cell \u001b[1;32mIn[26], line 2\u001b[0m\n\u001b[0;32m      1\u001b[0m \u001b[38;5;28;01mimport\u001b[39;00m \u001b[38;5;21;01mmath\u001b[39;00m\n\u001b[1;32m----> 2\u001b[0m \u001b[43mmath\u001b[49m\u001b[38;5;241;43m.\u001b[39;49m\u001b[43msqrt\u001b[49m\u001b[43m(\u001b[49m\u001b[38;5;241;43m-\u001b[39;49m\u001b[38;5;241;43m1.0\u001b[39;49m\u001b[43m)\u001b[49m\n",
      "\u001b[1;31mValueError\u001b[0m: math domain error"
     ]
    }
   ],
   "source": [
    "import math\n",
    "math.sqrt(-1.0)"
   ]
  },
  {
   "cell_type": "code",
   "execution_count": 27,
   "id": "6930b369",
   "metadata": {},
   "outputs": [
    {
     "ename": "NameError",
     "evalue": "name 'jashan' is not defined",
     "output_type": "error",
     "traceback": [
      "\u001b[1;31m---------------------------------------------------------------------------\u001b[0m",
      "\u001b[1;31mNameError\u001b[0m                                 Traceback (most recent call last)",
      "Cell \u001b[1;32mIn[27], line 1\u001b[0m\n\u001b[1;32m----> 1\u001b[0m \u001b[38;5;28mprint\u001b[39m(\u001b[43mjashan\u001b[49m)\n",
      "\u001b[1;31mNameError\u001b[0m: name 'jashan' is not defined"
     ]
    }
   ],
   "source": [
    "print(jashan)"
   ]
  },
  {
   "cell_type": "code",
   "execution_count": 28,
   "id": "a1dc6733",
   "metadata": {
    "scrolled": true
   },
   "outputs": [
    {
     "ename": "FileNotFoundError",
     "evalue": "[Errno 2] No such file or directory: 'inavalidfilename'",
     "output_type": "error",
     "traceback": [
      "\u001b[1;31m---------------------------------------------------------------------------\u001b[0m",
      "\u001b[1;31mFileNotFoundError\u001b[0m                         Traceback (most recent call last)",
      "Cell \u001b[1;32mIn[28], line 1\u001b[0m\n\u001b[1;32m----> 1\u001b[0m \u001b[38;5;28;43mopen\u001b[39;49m\u001b[43m(\u001b[49m\u001b[38;5;124;43m\"\u001b[39;49m\u001b[38;5;124;43minavalidfilename\u001b[39;49m\u001b[38;5;124;43m\"\u001b[39;49m\u001b[43m,\u001b[49m\u001b[38;5;124;43m'\u001b[39;49m\u001b[38;5;124;43mr\u001b[39;49m\u001b[38;5;124;43m'\u001b[39;49m\u001b[43m)\u001b[49m\n",
      "File \u001b[1;32mD:\\Anaconda\\lib\\site-packages\\IPython\\core\\interactiveshell.py:282\u001b[0m, in \u001b[0;36m_modified_open\u001b[1;34m(file, *args, **kwargs)\u001b[0m\n\u001b[0;32m    275\u001b[0m \u001b[38;5;28;01mif\u001b[39;00m file \u001b[38;5;129;01min\u001b[39;00m {\u001b[38;5;241m0\u001b[39m, \u001b[38;5;241m1\u001b[39m, \u001b[38;5;241m2\u001b[39m}:\n\u001b[0;32m    276\u001b[0m     \u001b[38;5;28;01mraise\u001b[39;00m \u001b[38;5;167;01mValueError\u001b[39;00m(\n\u001b[0;32m    277\u001b[0m         \u001b[38;5;124mf\u001b[39m\u001b[38;5;124m\"\u001b[39m\u001b[38;5;124mIPython won\u001b[39m\u001b[38;5;124m'\u001b[39m\u001b[38;5;124mt let you open fd=\u001b[39m\u001b[38;5;132;01m{\u001b[39;00mfile\u001b[38;5;132;01m}\u001b[39;00m\u001b[38;5;124m by default \u001b[39m\u001b[38;5;124m\"\u001b[39m\n\u001b[0;32m    278\u001b[0m         \u001b[38;5;124m\"\u001b[39m\u001b[38;5;124mas it is likely to crash IPython. If you know what you are doing, \u001b[39m\u001b[38;5;124m\"\u001b[39m\n\u001b[0;32m    279\u001b[0m         \u001b[38;5;124m\"\u001b[39m\u001b[38;5;124myou can use builtins\u001b[39m\u001b[38;5;124m'\u001b[39m\u001b[38;5;124m open.\u001b[39m\u001b[38;5;124m\"\u001b[39m\n\u001b[0;32m    280\u001b[0m     )\n\u001b[1;32m--> 282\u001b[0m \u001b[38;5;28;01mreturn\u001b[39;00m io_open(file, \u001b[38;5;241m*\u001b[39margs, \u001b[38;5;241m*\u001b[39m\u001b[38;5;241m*\u001b[39mkwargs)\n",
      "\u001b[1;31mFileNotFoundError\u001b[0m: [Errno 2] No such file or directory: 'inavalidfilename'"
     ]
    }
   ],
   "source": [
    "open(\"inavalidfilename\",'r')"
   ]
  },
  {
   "cell_type": "markdown",
   "id": "b03fbb39",
   "metadata": {},
   "source": [
    "# Question 10\n",
    "Encryption is the process of hiding the meaning of a text by substituting letters in the  \n",
    "message with other letters, according to some system. If the process is successful, no  \n",
    "one but the intended recipient can understand the encrypted message. Cryptanalysis  \n",
    "refers to attempts to undo the encryption, even if some details of the encryption are  \n",
    "unknown (for example, if an encrypted message has been intercepted). The first step  \n",
    "of cryptanalysis is often to build up a table of letter frequencies in the encrypted text.  \n",
    "Assume that the string letters is already defined as  \n",
    "'abcdefghijklmnopqrstuvwxyz'. Write a function called frequencies()  \n",
    "that takes a string as its only parameter, and returns a list of integers, showing the  \n",
    "number of times each character appears in the text. Your function may ignore any  \n",
    "characters that are not in letters.  \n",
    "> frequencies('The quick red fox got bored and went home.')   \n",
    "[1, 1, 1, 3, 5, 1, 1, 2, 1, 0, 1, 0, 1, 2, 4, 0, 1, 2, 0, 2,  \n",
    "1, 0, 1, 1, 0, 0]  \n",
    "> frequencies('apple')  "
   ]
  },
  {
   "cell_type": "code",
   "execution_count": 35,
   "id": "f3db070e",
   "metadata": {},
   "outputs": [
    {
     "name": "stdout",
     "output_type": "stream",
     "text": [
      "[1, 1, 1, 3, 5, 1, 1, 2, 1, 0, 1, 0, 1, 2, 4, 0, 1, 2, 0, 3, 1, 0, 1, 1, 0, 0]\n",
      "[1, 0, 0, 0, 1, 0, 0, 0, 0, 0, 0, 1, 0, 0, 0, 2, 0, 0, 0, 0, 0, 0, 0, 0, 0, 0]\n",
      "[2, 0, 0, 0, 0, 0, 0, 1, 0, 1, 0, 0, 0, 1, 0, 0, 0, 0, 1, 0, 0, 0, 0, 0, 0, 0]\n"
     ]
    }
   ],
   "source": [
    "def frequencies(str):\n",
    "    code=\"abcdefghijklmnopqrstuvwxyz\"\n",
    "    int_list=[0]*26 # list of 26 integers initialised to 0 to keep count\n",
    "    for c in str.lower():\n",
    "        if c in code:\n",
    "            position= code.index(c) #finding index of c in the code string\n",
    "            int_list[position]+=1 # increasing the counter of that same position in the int_List\n",
    "            \n",
    "    return int_list\n",
    "\n",
    "print(frequencies('The quick red fox got bored and went home.'))\n",
    "print(frequencies('apple'))\n",
    "print(frequencies('jashan1234'))\n",
    "    "
   ]
  }
 ],
 "metadata": {
  "kernelspec": {
   "display_name": "Python 3 (ipykernel)",
   "language": "python",
   "name": "python3"
  },
  "language_info": {
   "codemirror_mode": {
    "name": "ipython",
    "version": 3
   },
   "file_extension": ".py",
   "mimetype": "text/x-python",
   "name": "python",
   "nbconvert_exporter": "python",
   "pygments_lexer": "ipython3",
   "version": "3.10.9"
  }
 },
 "nbformat": 4,
 "nbformat_minor": 5
}
